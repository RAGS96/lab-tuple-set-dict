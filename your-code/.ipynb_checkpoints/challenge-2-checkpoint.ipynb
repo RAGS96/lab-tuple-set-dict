{
 "cells": [
  {
   "cell_type": "markdown",
   "metadata": {},
   "source": [
    "## Challenge 2: Sets\n",
    "\n",
    "There are a lot to learn about Python Sets and the information presented in the lesson is limited due to its length. To learn Python Sets in depth you are strongly encouraged to review the W3Schools tutorial on [Python Sets Examples and Methods](https://www.w3schools.com/python/python_sets.asp) before you work on this lab. Some difficult questions in this lab have their solutions in the W3Schools tutorial.\n",
    "\n",
    "#### First, import the Python `random` libary"
   ]
  },
  {
   "cell_type": "code",
   "execution_count": 2,
   "metadata": {},
   "outputs": [],
   "source": [
    "import random"
   ]
  },
  {
   "cell_type": "markdown",
   "metadata": {},
   "source": [
    "#### 1 - In the cell below, create a list named `sample_list_1` with 80 random values. \n",
    "\n",
    "Requirements:\n",
    "\n",
    "* Each value is an integer falling between 0 and 100.\n",
    "* Each value in the list is unique.\n",
    "\n",
    "Print `sample_list_1` to review its values\n",
    "\n",
    "*Hint: use `random.sample` ([reference](https://docs.python.org/3/library/random.html#random.sample)).*"
   ]
  },
  {
   "cell_type": "code",
   "execution_count": 57,
   "metadata": {},
   "outputs": [
    {
     "name": "stdout",
     "output_type": "stream",
     "text": [
      "[85, 80, 21, 89, 48, 16, 38, 53, 22, 32, 6, 20, 15, 68, 59, 33, 54, 66, 18, 69, 17, 36, 41, 24, 52, 42, 40, 27, 79, 90, 2, 61, 3, 30, 46, 60, 98, 14, 35, 72, 58, 78, 100, 26, 31, 84, 39, 5, 12, 62, 70, 83, 81, 88, 74, 28, 50, 0, 95, 44, 29, 75, 47, 91, 13, 7, 9, 34, 65, 49, 82, 93, 77, 43, 64, 96, 56, 1, 86, 10]\n",
      "<class 'list'>\n",
      "80\n"
     ]
    }
   ],
   "source": [
    "sample_list_1 = random.sample(range(101), k=80)\n",
    "print(sample_list_1)\n",
    "print(type(sample_list_1))\n",
    "print(len(sample_list_1))"
   ]
  },
  {
   "cell_type": "markdown",
   "metadata": {},
   "source": [
    "#### 2 - Convert `sample_list_1` to a set called `set1`. Print the length of the set. Is its length still 80?"
   ]
  },
  {
   "cell_type": "code",
   "execution_count": 30,
   "metadata": {},
   "outputs": [
    {
     "name": "stdout",
     "output_type": "stream",
     "text": [
      "{0, 1, 2, 3, 4, 5, 6, 7, 9, 10, 13, 14, 15, 16, 17, 18, 19, 20, 21, 22, 25, 26, 28, 29, 31, 32, 33, 34, 35, 36, 37, 38, 42, 45, 46, 47, 48, 49, 50, 52, 53, 54, 55, 56, 58, 59, 60, 61, 62, 63, 64, 65, 66, 68, 69, 70, 71, 72, 73, 74, 75, 76, 78, 79, 80, 81, 82, 83, 85, 86, 87, 89, 91, 92, 93, 94, 95, 97, 99, 100}\n",
      "<class 'set'>\n",
      "80\n"
     ]
    }
   ],
   "source": [
    "set1 = set(sample_list_1)\n",
    "print(set1)\n",
    "print(type(set1))\n",
    "print(len(set1))\n",
    "#len(sample_list_1) == len(set1)"
   ]
  },
  {
   "cell_type": "markdown",
   "metadata": {},
   "source": [
    "#### 3 - Create another list named `sample_list_2` with 80 random values.\n",
    "\n",
    "Requirements:\n",
    "\n",
    "* Each value is an integer falling between 0 and 100.\n",
    "* The values in the list don't have to be unique.\n",
    "\n",
    "*Hint: Use a FOR loop.*"
   ]
  },
  {
   "cell_type": "code",
   "execution_count": 32,
   "metadata": {},
   "outputs": [
    {
     "name": "stdout",
     "output_type": "stream",
     "text": [
      "[16, 8, 47, 77, 2, 0, 57, 38, 19, 59, 17, 5, 82, 1, 30, 40, 56, 64, 11, 62, 86, 81, 53, 79, 90, 95, 31, 84, 12, 39, 100, 26, 34, 60, 10, 94, 23, 25, 15, 97, 9, 91, 20, 4, 43, 80, 66, 3, 52, 70, 6, 96, 92, 13, 28, 65, 27, 85, 78, 22, 46, 89, 93, 48, 98, 29, 32, 18, 42, 51, 14, 33, 41, 73, 67, 74, 45, 88, 69, 7]\n",
      "<class 'list'>\n",
      "80\n"
     ]
    }
   ],
   "source": [
    "sample_list = random.sample(range(101), 80)\n",
    "sample_list_2 = []\n",
    "for i in sample_list:\n",
    "    sample_list_2.append(i)\n",
    "                    \n",
    "print(sample_list_2)\n",
    "print(type(sample_list_2))\n",
    "print(len(sample_list_2))\n",
    "\n",
    "\n",
    "\n",
    "\"\"\"\n",
    "sample_list_2 = []\n",
    "for i in range(80):\n",
    "    sample_list_2.append(random.randrange(0, 101))\n",
    "print(sample_list_2)\n",
    "rint(type(sample_list_2))\n",
    "print(len(sample_list_2))\n",
    "\n",
    "#if i transform sample_list_2 into a set, the duplicates are removed (length will be smaller than sample_list_2) \n",
    "\n",
    "\n",
    "sample_list_2 = []\n",
    "for i in range(0,80):\n",
    "    n = random.randint(1,101)\n",
    "    sample_list_2.append(n)\n",
    "print(sample_list_2)\n",
    "\n",
    "\"\"\""
   ]
  },
  {
   "cell_type": "markdown",
   "metadata": {},
   "source": [
    "#### 4 - Convert `sample_list_2` to a set called `set2`. Print the length of the set. Is its length still 80?"
   ]
  },
  {
   "cell_type": "code",
   "execution_count": 6,
   "metadata": {},
   "outputs": [
    {
     "name": "stdout",
     "output_type": "stream",
     "text": [
      "{0, 2, 3, 4, 5, 6, 7, 9, 10, 11, 12, 13, 14, 15, 16, 19, 20, 21, 24, 26, 27, 28, 29, 31, 32, 33, 34, 35, 37, 38, 39, 40, 42, 43, 44, 45, 46, 47, 48, 49, 50, 51, 52, 53, 54, 55, 56, 58, 59, 60, 61, 62, 63, 64, 66, 68, 69, 71, 72, 73, 74, 75, 76, 77, 79, 80, 82, 83, 84, 85, 86, 88, 90, 91, 92, 94, 95, 96, 97, 98}\n",
      "<class 'set'>\n",
      "80\n"
     ]
    }
   ],
   "source": [
    "set2 = set(sample_list_2)\n",
    "\n",
    "print(set2)\n",
    "print(type(set2))\n",
    "print(len(set2))"
   ]
  },
  {
   "cell_type": "markdown",
   "metadata": {},
   "source": [
    "#### 5 - Identify the elements present in `set1` but not in `set2`. Assign the elements to a new set named `set3`."
   ]
  },
  {
   "cell_type": "code",
   "execution_count": 7,
   "metadata": {},
   "outputs": [
    {
     "name": "stdout",
     "output_type": "stream",
     "text": [
      "{0, 1, 2, 3, 4, 5, 6, 10, 11, 12, 13, 15, 16, 17, 18, 19, 20, 21, 22, 23, 25, 26, 27, 28, 29, 31, 32, 34, 35, 37, 39, 40, 41, 43, 44, 45, 46, 47, 48, 49, 50, 51, 52, 53, 54, 56, 57, 58, 59, 60, 61, 62, 64, 65, 66, 67, 69, 70, 72, 73, 74, 75, 77, 78, 79, 81, 83, 84, 88, 89, 90, 91, 92, 94, 95, 96, 97, 98, 99, 100}\n",
      "\n",
      "\n",
      "{0, 2, 3, 4, 5, 6, 7, 9, 10, 11, 12, 13, 14, 15, 16, 19, 20, 21, 24, 26, 27, 28, 29, 31, 32, 33, 34, 35, 37, 38, 39, 40, 42, 43, 44, 45, 46, 47, 48, 49, 50, 51, 52, 53, 54, 55, 56, 58, 59, 60, 61, 62, 63, 64, 66, 68, 69, 71, 72, 73, 74, 75, 76, 77, 79, 80, 82, 83, 84, 85, 86, 88, 90, 91, 92, 94, 95, 96, 97, 98}\n",
      "\n",
      "\n",
      "{89, 1, 65, 67, 99, 100, 70, 41, 78, 17, 18, 81, 22, 23, 25, 57}\n"
     ]
    }
   ],
   "source": [
    "print(set1)\n",
    "print(\"\\n\")\n",
    "print(set2)\n",
    "print(\"\\n\")\n",
    "\n",
    "set3 = set1.difference(set2)\n",
    "print(set3)"
   ]
  },
  {
   "cell_type": "markdown",
   "metadata": {},
   "source": [
    "#### 6 - Identify the elements present in `set2` but not in `set1`. Assign the elements to a new set named `set4`."
   ]
  },
  {
   "cell_type": "code",
   "execution_count": 8,
   "metadata": {},
   "outputs": [
    {
     "name": "stdout",
     "output_type": "stream",
     "text": [
      "{33, 68, 38, 7, 71, 9, 42, 76, 14, 80, 82, 85, 86, 55, 24, 63}\n",
      "<class 'set'>\n"
     ]
    }
   ],
   "source": [
    "set4 = set2.difference(set1)\n",
    "print(set4)\n",
    "print(type(set4))"
   ]
  },
  {
   "cell_type": "markdown",
   "metadata": {},
   "source": [
    "#### 7 - Now Identify the elements shared between `set1` and `set2`. Assign the elements to a new set named `set5`."
   ]
  },
  {
   "cell_type": "code",
   "execution_count": 9,
   "metadata": {},
   "outputs": [
    {
     "name": "stdout",
     "output_type": "stream",
     "text": [
      "{0, 2, 3, 4, 5, 6, 10, 11, 12, 13, 15, 16, 19, 20, 21, 26, 27, 28, 29, 31, 32, 34, 35, 37, 39, 40, 43, 44, 45, 46, 47, 48, 49, 50, 51, 52, 53, 54, 56, 58, 59, 60, 61, 62, 64, 66, 69, 72, 73, 74, 75, 77, 79, 83, 84, 88, 90, 91, 92, 94, 95, 96, 97, 98}\n",
      "\n",
      "\n",
      "{0, 2, 3, 4, 5, 6, 10, 11, 12, 13, 15, 16, 19, 20, 21, 26, 27, 28, 29, 31, 32, 34, 35, 37, 39, 40, 43, 44, 45, 46, 47, 48, 49, 50, 51, 52, 53, 54, 56, 58, 59, 60, 61, 62, 64, 66, 69, 72, 73, 74, 75, 77, 79, 83, 84, 88, 90, 91, 92, 94, 95, 96, 97, 98}\n",
      "<class 'set'>\n",
      "64\n"
     ]
    }
   ],
   "source": [
    "print(set1.intersection(set2))\n",
    "print(\"\\n\")\n",
    "\n",
    "set5 = set1.intersection(set2)\n",
    "print(set5)\n",
    "print(type(set5))\n",
    "print(len(set5))"
   ]
  },
  {
   "cell_type": "markdown",
   "metadata": {},
   "source": [
    "#### 8 - Create an empty set called `set6`."
   ]
  },
  {
   "cell_type": "code",
   "execution_count": 10,
   "metadata": {},
   "outputs": [
    {
     "name": "stdout",
     "output_type": "stream",
     "text": [
      "<class 'set'>\n"
     ]
    }
   ],
   "source": [
    "set6 = set()\n",
    "print(type(set6))"
   ]
  },
  {
   "cell_type": "markdown",
   "metadata": {},
   "source": [
    "#### 9 - Add `set3` and `set5` to `set6` using the Python Set `update` method."
   ]
  },
  {
   "cell_type": "code",
   "execution_count": 33,
   "metadata": {},
   "outputs": [
    {
     "name": "stdout",
     "output_type": "stream",
     "text": [
      "{0, 1, 2, 3, 4, 5, 6, 10, 11, 12, 13, 15, 16, 17, 18, 19, 20, 21, 22, 23, 25, 26, 27, 28, 29, 31, 32, 34, 35, 37, 39, 40, 41, 43, 44, 45, 46, 47, 48, 49, 50, 51, 52, 53, 54, 56, 57, 58, 59, 60, 61, 62, 64, 65, 66, 67, 69, 70, 72, 73, 74, 75, 77, 78, 79, 81, 83, 84, 88, 89, 90, 91, 92, 94, 95, 96, 97, 98, 99, 100}\n",
      "\n",
      "\n",
      "\n",
      "{89, 1, 65, 67, 99, 100, 70, 41, 78, 17, 18, 81, 22, 23, 25, 57}\n",
      "\n",
      "\n",
      "{0, 2, 3, 4, 5, 6, 10, 11, 12, 13, 15, 16, 19, 20, 21, 26, 27, 28, 29, 31, 32, 34, 35, 37, 39, 40, 43, 44, 45, 46, 47, 48, 49, 50, 51, 52, 53, 54, 56, 58, 59, 60, 61, 62, 64, 66, 69, 72, 73, 74, 75, 77, 79, 83, 84, 88, 90, 91, 92, 94, 95, 96, 97, 98}\n",
      "\n",
      "\n",
      "{0, 1, 2, 3, 4, 5, 6, 10, 11, 12, 13, 15, 16, 17, 18, 19, 20, 21, 22, 23, 25, 26, 27, 28, 29, 31, 32, 34, 35, 37, 39, 40, 41, 43, 44, 45, 46, 47, 48, 49, 50, 51, 52, 53, 54, 56, 57, 58, 59, 60, 61, 62, 64, 65, 66, 67, 69, 70, 72, 73, 74, 75, 77, 78, 79, 81, 83, 84, 88, 89, 90, 91, 92, 94, 95, 96, 97, 98, 99, 100}\n",
      "<class 'set'>\n",
      "80\n"
     ]
    }
   ],
   "source": [
    "print(set3)\n",
    "print(\"\\n\")\n",
    "print(set5)\n",
    "print(\"\\n\")\n",
    "\n",
    "set6.update(set3, set5)\n",
    "print(set6)\n",
    "print(type(set6))\n",
    "print(len(set6))"
   ]
  },
  {
   "cell_type": "markdown",
   "metadata": {},
   "source": [
    "#### 10 - Check if `set1` and `set6` are equal."
   ]
  },
  {
   "cell_type": "code",
   "execution_count": 12,
   "metadata": {},
   "outputs": [
    {
     "name": "stdout",
     "output_type": "stream",
     "text": [
      "They're equal\n",
      "set()\n"
     ]
    }
   ],
   "source": [
    "set1 == set6\n",
    "\n",
    "#if-statement\n",
    "if set1 == set6:\n",
    "    print(\"They're equal\")\n",
    "else:\n",
    "    print(\"they're not equal!\")\n",
    "    \n",
    "    \n",
    "# find difference between both sets by subtracting them\n",
    "diff_sets = set1 - set6\n",
    "print(diff_sets)"
   ]
  },
  {
   "cell_type": "markdown",
   "metadata": {},
   "source": [
    "#### 11 - Check if `set1` contains `set2` using the Python Set `issubset` method. Then check if `set1` contains `set3`.*"
   ]
  },
  {
   "cell_type": "code",
   "execution_count": 35,
   "metadata": {},
   "outputs": [
    {
     "name": "stdout",
     "output_type": "stream",
     "text": [
      "False\n",
      "False\n"
     ]
    }
   ],
   "source": [
    "#return True if all elements in set1 are in set2\n",
    "\n",
    "print(set1.issubset(set2))\n",
    "print(set1.issubset(set3))"
   ]
  },
  {
   "cell_type": "markdown",
   "metadata": {},
   "source": [
    "#### 12 -Using the Python Set `union` method, aggregate `set3`, `set4`, and `set5`. Then aggregate `set1` and `set2`. \n",
    "\n",
    "#### Check if the aggregated values are equal."
   ]
  },
  {
   "cell_type": "code",
   "execution_count": 14,
   "metadata": {},
   "outputs": [
    {
     "name": "stdout",
     "output_type": "stream",
     "text": [
      "They're equal!\n",
      "set()\n"
     ]
    }
   ],
   "source": [
    "unisets = set3.union(set4, set5)\n",
    "unisets1 = set1.union(set2)\n",
    "\n",
    "if unisets == unisets1:\n",
    "    print(\"They're equal!\")\n",
    "else:\n",
    "    print(\"They're not equal!\")\n",
    "    \n",
    "#difference between both sets by subtracting them\n",
    "union_of_sets = unisets-unisets1\n",
    "print(union_of_sets)\n",
    "\n",
    "\n",
    "\"\"\"\n",
    "# or if its suppose agreggate all of them together\n",
    "unisets = set3.union(set4, set5)\n",
    "unisets1 = unisets.union(set1, set2)\n",
    "\n",
    "print(unisets1)"
   ]
  },
  {
   "cell_type": "markdown",
   "metadata": {},
   "source": [
    "#### 13 -Using the `pop` method, remove the first element from `set1`."
   ]
  },
  {
   "cell_type": "code",
   "execution_count": 36,
   "metadata": {},
   "outputs": [
    {
     "name": "stdout",
     "output_type": "stream",
     "text": [
      "{1, 2, 3, 4, 5, 6, 7, 9, 10, 13, 14, 15, 16, 17, 18, 19, 20, 21, 22, 25, 26, 28, 29, 31, 32, 33, 34, 35, 36, 37, 38, 42, 45, 46, 47, 48, 49, 50, 52, 53, 54, 55, 56, 58, 59, 60, 61, 62, 63, 64, 65, 66, 68, 69, 70, 71, 72, 73, 74, 75, 76, 78, 79, 80, 81, 82, 83, 85, 86, 87, 89, 91, 92, 93, 94, 95, 97, 99, 100}\n",
      "<class 'set'>\n",
      "79\n"
     ]
    }
   ],
   "source": [
    "set1 = list(set1)\n",
    "set1.pop(0)\n",
    "set1 = set(set1)\n",
    "\n",
    "print(set1)\n",
    "print(type(set1))\n",
    "print(len(set1))"
   ]
  },
  {
   "cell_type": "markdown",
   "metadata": {},
   "source": [
    "#### 14 -Remove every element in the following list from `set1` if they are present in the set. Print the remaining elements.\n",
    "\n",
    "```\n",
    "list_to_remove = [1, 9, 11, 19, 21, 29, 31, 39, 41, 49, 51, 59, 61, 69, 71, 79, 81, 89, 91, 99]\n",
    "```"
   ]
  },
  {
   "cell_type": "code",
   "execution_count": 59,
   "metadata": {},
   "outputs": [
    {
     "name": "stdout",
     "output_type": "stream",
     "text": [
      "{2, 3, 4, 5, 6, 7, 10, 13, 14, 15, 16, 17, 18, 20, 22, 25, 26, 28, 32, 33, 34, 35, 36, 37, 38, 42, 45, 46, 47, 48, 50, 52, 53, 54, 55, 56, 58, 60, 62, 63, 64, 65, 66, 68, 70, 72, 73, 74, 75, 76, 78, 80, 82, 83, 85, 86, 87, 92, 93, 94, 95, 97, 100}\n"
     ]
    },
    {
     "data": {
      "text/plain": [
       "'\\n# without needing to change set to list\\n\\nfor element in list_to_remove:\\n    if element in set1:\\n        set1.remove(element)\\nprint(set1)\\n\\n\\nset1.difference_update(list_to_remove)\\nprint(set1)\\n'"
      ]
     },
     "execution_count": 59,
     "metadata": {},
     "output_type": "execute_result"
    }
   ],
   "source": [
    "list_to_remove = [1, 9, 11, 19, 21, 29, 31, 39, 41, 49, 51, 59, 61, 69, 71, 79, 81, 89, 91, 99]\n",
    "set1 = list(set1)\n",
    "\n",
    "for element in set1:\n",
    "    if element in list_to_remove:\n",
    "        set1.remove(element)\n",
    "\n",
    "set1 = set(set1)\n",
    "print(set1)\n",
    "\n",
    "\n",
    "\n",
    "\"\"\"\n",
    "# without needing to change set to list\n",
    "\n",
    "for element in list_to_remove:\n",
    "    if element in set1:\n",
    "        set1.remove(element)\n",
    "print(set1)\n",
    "\n",
    "\n",
    "set1.difference_update(list_to_remove)\n",
    "print(set1)\n",
    "\"\"\"\n"
   ]
  },
  {
   "cell_type": "markdown",
   "metadata": {},
   "source": [
    "#### 15 -The objective of this lab is to provide you a overview of manipulating sets in Python and how they can be integrated within a real usecase\n",
    "#### For the exercises below it's strongly advised to quickly check this link: https://docs.python.org/2/library/sets.html#sets.Set\n",
    "#### Imagine you need to create the grocery list for your family! Below you will see a list of items each family member wants. There will be repetitions because this family has the habbit of each time they notice something is missing to write it down. The problem is that they don't really talk to each other and therefore some items in the list are repeated. With the collection of questions below you will see how they solve repetion and create a grocery list with unique elements.\n",
    "\n"
   ]
  },
  {
   "cell_type": "code",
   "execution_count": 20,
   "metadata": {},
   "outputs": [],
   "source": [
    "father_list = ['garlic', 'watermelon', 'toilet paper', 'yogurt', 'onions', 'gums', 'flour', 'cucumber', 'watermelon', 'yogurt', 'garlic']\n",
    "\n",
    "mother_list = []\n",
    "\n",
    "jo_list = ['blueberries', 'sugar', 'watermelon', 'gums', 'tomatoes', 'yogurt', 'juice', 'milk', 'onions', 'garlic', 'cucumber', 'sugar', 'blueberries', 'gums', 'yogurt']\n",
    "\n",
    "carlos_list = ['tomatoes', 'water', 'onions', 'blueberries', 'garlic', 'flour', 'cherries', 'tomatoes', 'onions', 'water', 'tomatoes', 'toilet paper']\n",
    "\n",
    "mattia_list = []\n",
    "\n",
    "\n"
   ]
  },
  {
   "cell_type": "markdown",
   "metadata": {},
   "source": [
    "#### 15.1- As you can see there are items repeated in each list. Creat a sequence of iterable elements with dintinct items that each family member wants. You can do it in two different ways. Assign each one (set) to a variable with the name of the family member (ex: father_set)."
   ]
  },
  {
   "cell_type": "code",
   "execution_count": 41,
   "metadata": {},
   "outputs": [],
   "source": [
    "father_set = set(father_list)\n",
    "mother_set = set(mother_list)\n",
    "jo_set = set(jo_list)\n",
    "carlos_set = set(carlos_list)\n",
    "mattia_set = set(mattia_list)"
   ]
  },
  {
   "cell_type": "markdown",
   "metadata": {},
   "source": [
    "#### 15.2- Q: Mattia wants the same items that his brother Carlos and his sister Jo but doesn't want anything they both want.\n",
    "\n",
    "##### Hint: check out the documentation for `x.symmetric_difference(y)`."
   ]
  },
  {
   "cell_type": "code",
   "execution_count": 23,
   "metadata": {},
   "outputs": [
    {
     "name": "stdout",
     "output_type": "stream",
     "text": [
      "{'sugar', 'milk', 'juice', 'watermelon', 'flour', 'water', 'gums', 'yogurt', 'cherries', 'cucumber', 'toilet paper'}\n"
     ]
    }
   ],
   "source": [
    "# tomatoes, onions, garlic, blueberries\n",
    "\n",
    "mattia_set = carlos_set.symmetric_difference(jo_set)\n",
    "print(mattia_set)"
   ]
  },
  {
   "cell_type": "markdown",
   "metadata": {},
   "source": [
    "#### 15.3- The line of code below  will  generate a list of random elements from a collection of items, with replacement. Run it and from it create a sequence of unique elements and assign it to the variable mother.\n"
   ]
  },
  {
   "cell_type": "code",
   "execution_count": 24,
   "metadata": {},
   "outputs": [
    {
     "name": "stdout",
     "output_type": "stream",
     "text": [
      "['juice', 'water', 'blueberries', 'onions', 'vinegar', 'toilet paper', 'flour', 'gums', 'milk', 'onions']\n"
     ]
    }
   ],
   "source": [
    "import random\n",
    "items = ['milk', 'water', 'chocolate', 'blueberries', 'shampoo', 'flour', 'bread', 'sugar', 'watermelon', 'vinegar', 'tomatoes', 'yogurt', 'juice', 'gums', 'onions', 'garlic', 'cucumber', 'mushrooms', 'toilet paper', 'oranges', 'deodorant', 'cherries']\n",
    "\n",
    "mother_list = random.choices(items,k = 10) # https://docs.python.org/3/library/random.html\n",
    "\n",
    "print(mother_list)"
   ]
  },
  {
   "cell_type": "code",
   "execution_count": 44,
   "metadata": {},
   "outputs": [
    {
     "name": "stdout",
     "output_type": "stream",
     "text": [
      "{'milk', 'juice', 'onions', 'water', 'gums', 'blueberries', 'flour', 'vinegar', 'toilet paper'}\n",
      "<class 'set'>\n"
     ]
    }
   ],
   "source": [
    "mother_list = set(mother_list)\n",
    "print(mother_list)\n",
    "print(type(mother_list))"
   ]
  },
  {
   "cell_type": "markdown",
   "metadata": {},
   "source": [
    "#### 15.4- Before leaving the house to the grocery store the father found a lot of toilet paper, so the mother decided to remove it from the items needed to be bought. Use the `.discard()` method to remove from each set created before the 'toilet paper'. \n",
    "\n",
    "#### Hint: Try to first create a list contaning the variables of each set created before, then loop through them and remove the unecessary item. \n",
    "\n",
    "##### Note: The`.discard()` method will remove and update the set without the need of reassignment.\n",
    "\n"
   ]
  },
  {
   "cell_type": "code",
   "execution_count": 60,
   "metadata": {},
   "outputs": [
    {
     "name": "stdout",
     "output_type": "stream",
     "text": [
      "{'cherries', 'vinegar', 'milk', 'sugar', 'garlic', 'onions', 'juice', 'watermelon', 'water', 'gums', 'yogurt', 'tomatoes', 'blueberries', 'flour', 'cucumber', 'toilet paper'}\n",
      "{'cherries', 'vinegar', 'milk', 'sugar', 'garlic', 'onions', 'juice', 'watermelon', 'water', 'gums', 'yogurt', 'tomatoes', 'blueberries', 'flour', 'cucumber'}\n"
     ]
    }
   ],
   "source": [
    "grocery_list = list(father_set) + list(mother_set) + list(jo_set) + list(carlos_set) + list(mattia_set)\n",
    "grocery_list = set(grocery_list)\n",
    "print(grocery_list)\n",
    "\n",
    "grocery_list.discard(\"toilet paper\")\n",
    "print(grocery_list)\n"
   ]
  },
  {
   "cell_type": "markdown",
   "metadata": {},
   "source": [
    "#### 15.5- Create a set with all the groceries needed to be bought for the house (no repetitions)."
   ]
  },
  {
   "cell_type": "code",
   "execution_count": 62,
   "metadata": {},
   "outputs": [
    {
     "name": "stdout",
     "output_type": "stream",
     "text": [
      "{'cherries', 'vinegar', 'milk', 'sugar', 'garlic', 'onions', 'juice', 'watermelon', 'water', 'gums', 'yogurt', 'tomatoes', 'blueberries', 'flour', 'cucumber'}\n",
      "<class 'set'>\n"
     ]
    }
   ],
   "source": [
    "print(grocery_list)\n",
    "print(type(grocery_list))"
   ]
  },
  {
   "cell_type": "markdown",
   "metadata": {},
   "source": [
    "#### 15.6- The Father said that he could only buy five items this time. So he decided to arbitraly pick wich ones to buy this time.\n",
    "\n",
    "##### Hint: use the `.pop()` method."
   ]
  },
  {
   "cell_type": "code",
   "execution_count": 63,
   "metadata": {},
   "outputs": [
    {
     "name": "stdout",
     "output_type": "stream",
     "text": [
      "{'cherries', 'vinegar', 'milk', 'sugar', 'garlic', 'onions', 'juice', 'watermelon', 'water', 'gums', 'yogurt', 'tomatoes', 'blueberries', 'flour', 'cucumber'}\n"
     ]
    },
    {
     "data": {
      "text/plain": [
       "{'blueberries', 'flour', 'milk', 'vinegar', 'water', 'watermelon'}"
      ]
     },
     "execution_count": 63,
     "metadata": {},
     "output_type": "execute_result"
    }
   ],
   "source": [
    "print(grocery_list)\n",
    "grocery_list.difference(random.sample(grocery_list, k=9))"
   ]
  },
  {
   "cell_type": "code",
   "execution_count": null,
   "metadata": {},
   "outputs": [],
   "source": []
  }
 ],
 "metadata": {
  "kernelspec": {
   "display_name": "Python 3",
   "language": "python",
   "name": "python3"
  },
  "language_info": {
   "codemirror_mode": {
    "name": "ipython",
    "version": 3
   },
   "file_extension": ".py",
   "mimetype": "text/x-python",
   "name": "python",
   "nbconvert_exporter": "python",
   "pygments_lexer": "ipython3",
   "version": "3.7.6"
  }
 },
 "nbformat": 4,
 "nbformat_minor": 2
}
